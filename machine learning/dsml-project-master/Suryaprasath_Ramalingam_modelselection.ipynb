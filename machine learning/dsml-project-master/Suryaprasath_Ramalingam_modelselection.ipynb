{
 "cells": [
  {
   "cell_type": "code",
   "execution_count": 1,
   "metadata": {
    "collapsed": true
   },
   "outputs": [],
   "source": [
    "from sklearn.svm import SVC, LinearSVC\n",
    "from sklearn.tree import DecisionTreeClassifier\n",
    "from sklearn.linear_model import LogisticRegression\n",
    "from sklearn.ensemble import RandomForestClassifier, AdaBoostClassifier\n",
    "from sklearn.neighbors import KNeighborsClassifier\n",
    "from sklearn.metrics import accuracy_score, roc_auc_score, f1_score, classification_report\n",
    "from sklearn.model_selection import train_test_split, StratifiedKFold\n",
    "from sklearn.naive_bayes import MultinomialNB\n",
    "import sys\n",
    "from sklearn.model_selection import GridSearchCV\n",
    "from sklearn.pipeline import Pipeline\n",
    "import joblib\n",
    "from sklearn.metrics import confusion_matrix\n",
    "from sklearn.feature_selection import SelectKBest,chi2\n",
    "from collections import Counter\n",
    "import pandas as pd\n",
    "import numpy as np\n",
    "import matplotlib.pyplot as plt\n",
    "from sklearn.base import TransformerMixin, BaseEstimator\n",
    "\n",
    "plt.style.use(\"ggplot\")"
   ]
  },
  {
   "cell_type": "code",
   "execution_count": 2,
   "outputs": [],
   "source": [
    "feature_scores = []"
   ],
   "metadata": {
    "collapsed": false,
    "pycharm": {
     "name": "#%%\n"
    }
   }
  },
  {
   "cell_type": "code",
   "execution_count": 3,
   "outputs": [],
   "source": [
    "class FeatureSelector(BaseEstimator, TransformerMixin):\n",
    "\n",
    "    def __init__(self, feature_count):\n",
    "        self.feature_count = feature_count\n",
    "        self.transformer = None\n",
    "\n",
    "    def fit(self, X, y=None):\n",
    "        self.transformer  = SelectKBest(chi2, k = self.feature_count)\n",
    "        self.transformer.fit(X, y)\n",
    "        return self\n",
    "\n",
    "    def transform(self, X, y = None):\n",
    "        feature_scores.append(self.transformer.scores_)\n",
    "        return self.transformer.transform(X)"
   ],
   "metadata": {
    "collapsed": false,
    "pycharm": {
     "name": "#%%\n"
    }
   }
  },
  {
   "cell_type": "markdown",
   "source": [],
   "metadata": {
    "collapsed": false
   }
  },
  {
   "cell_type": "code",
   "execution_count": 8,
   "outputs": [],
   "source": [
    "class ModelSelector:\n",
    "\n",
    "    def __init__(self, clf_opt):\n",
    "        self.clf_opt = clf_opt\n",
    "        self.path = \"preprocessed/train.csv\"\n",
    "        self.no_of_selected_features = 50\n",
    "\n",
    "    def classification_pipeline(self):\n",
    "\n",
    "        # AdaBoost\n",
    "        if self.clf_opt == 'ab':\n",
    "\n",
    "            print('\\n\\t### Training AdaBoost Classifier ### \\n')\n",
    "\n",
    "            be1 = SVC(kernel='linear', class_weight='balanced', probability=True)\n",
    "            be2 = LogisticRegression(solver='liblinear', class_weight='balanced')\n",
    "            be3 = DecisionTreeClassifier(max_depth=50)\n",
    "\n",
    "            clf = AdaBoostClassifier(algorithm='SAMME.R', n_estimators=100)\n",
    "            clf_parameters = {\n",
    "                'clf__base_estimator':(be1, be2, be3),\n",
    "                'clf__random_state':(0, 10),\n",
    "            }\n",
    "\n",
    "        # Decision Tree\n",
    "        elif self.clf_opt =='dt':\n",
    "\n",
    "            print('\\n\\t### Training Decision Tree Classifier ### \\n')\n",
    "\n",
    "            clf = DecisionTreeClassifier(random_state=40)\n",
    "            clf_parameters = {\n",
    "                'clf__criterion':('gini', 'entropy'),\n",
    "                'clf__max_features':('auto', 'sqrt', 'log2'),\n",
    "                'clf__max_depth':(10, 40, 45, 60),\n",
    "                'clf__ccp_alpha':(0.009, 0.01, 0.05, 0.1),\n",
    "            }\n",
    "\n",
    "        # knn\n",
    "        elif self.clf_opt =='knn':\n",
    "\n",
    "            print('\\n\\t### Training K nearest neighbour classifier ### \\n')\n",
    "\n",
    "            clf = KNeighborsClassifier(metric= 'minkowski')\n",
    "            clf_parameters = {\n",
    "                'clf__n_neighbors' : (5, 10, 25, 50, 100),\n",
    "                'clf__weights' : ('uniform','distance'),\n",
    "                'clf__p' : (1, 2)\n",
    "            }\n",
    "\n",
    "\n",
    "        # Logistic Regression\n",
    "        elif self.clf_opt=='lr':\n",
    "\n",
    "            print('\\n\\t### Training Logistic Regression Classifier ### \\n')\n",
    "\n",
    "            clf = LogisticRegression(solver='liblinear', class_weight='balanced')\n",
    "            clf_parameters = {\n",
    "                'clf__random_state':(0, 42),\n",
    "                'clf__C':(0.01, 0.1, 1)\n",
    "            }\n",
    "\n",
    "        # Linear SVC\n",
    "        elif self.clf_opt=='ls':\n",
    "\n",
    "            print('\\n\\t### Training Linear SVC Classifier ### \\n')\n",
    "\n",
    "            clf = LinearSVC(class_weight='balanced', max_iter = 2000)\n",
    "\n",
    "            clf_parameters = {\n",
    "                'clf__C':(0.01, 0.1, 1, 100),\n",
    "            }\n",
    "\n",
    "        # Multinomial Naive Bayes\n",
    "\n",
    "        elif self.clf_opt =='nb':\n",
    "\n",
    "            print('\\n\\t### Training Multinomial Naive Bayes Classifier ### \\n')\n",
    "\n",
    "            clf = MultinomialNB(fit_prior=True, class_prior=None)\n",
    "            clf_parameters = {\n",
    "                'clf__alpha': (0.01, 0.1, 1, 10, 100),\n",
    "            }\n",
    "\n",
    "        # Random Forest\n",
    "        elif self.clf_opt =='rf':\n",
    "            print('\\n\\t ### Training Random Forest Classifier ### \\n')\n",
    "            clf = RandomForestClassifier(max_features=None, class_weight='balanced')\n",
    "            clf_parameters = {\n",
    "                'clf__criterion':('entropy', 'gini'),\n",
    "                'clf__n_estimators':(30, 50, 100),\n",
    "                'clf__max_depth':(10, 20, 30, 50, 100, 200),\n",
    "            }\n",
    "\n",
    "        # Support Vector Machine\n",
    "        elif self.clf_opt=='svm':\n",
    "\n",
    "            print('\\n\\t### Training SVM Classifier ### \\n')\n",
    "\n",
    "            clf = SVC(class_weight='balanced', probability=True)\n",
    "            clf_parameters = {\n",
    "                'clf__C':(1, 10),\n",
    "                'clf__kernel':['poly'],\n",
    "                # 'clf__C':(0.1, 1, 10),\n",
    "                # 'clf__kernel':('rbf', 'poly', 'sigmoid'),\n",
    "\n",
    "            }\n",
    "        else:\n",
    "            print('Select a valid classifier \\n')\n",
    "            sys.exit(0)\n",
    "        return clf, clf_parameters\n",
    "\n",
    "    def get_data(self):\n",
    "        df = pd.read_csv(self.path)\n",
    "        train_labels = pd.read_csv(\"raw/train_class_labels.csv\")['income_>50K']\n",
    "        return train_test_split(df.to_numpy(), train_labels, test_size=0.25)\n",
    "\n",
    "\n",
    "\n",
    "    def classification(self):\n",
    "\n",
    "        # Get the data\n",
    "        trn_data, tst_data, trn_cat, tst_cat=self.get_data()\n",
    "\n",
    "        clf,clf_parameters=self.classification_pipeline()\n",
    "        pipeline = Pipeline([\n",
    "            ('feature_selection', FeatureSelector(feature_count=self.no_of_selected_features) ),                         # k=1000 is recommended\n",
    "            #       ('feature_selection', SelectKBest(mutual_info_classif, k=self.no_of_selected_features)),\n",
    "            ('clf', clf),])\n",
    "        grid = GridSearchCV(pipeline, clf_parameters, scoring='f1', cv=10, verbose = 4)\n",
    "        grid.fit(trn_data, trn_cat)\n",
    "        clf= grid.best_estimator_\n",
    "        print('\\n\\n The best set of parameters of the pipeline are: ')\n",
    "        print(clf)\n",
    "        joblib.dump(clf, self.path+'trn_model.joblib')\n",
    "        predicted=clf.predict(tst_data)\n",
    "        # Evaluation\n",
    "        class_names=list(Counter(tst_cat).keys())\n",
    "        class_names = [str(x) for x in class_names]\n",
    "        print('\\n The classes are: ')\n",
    "        print(class_names)\n",
    "        # Evaluation\n",
    "        print('\\n *************** Confusion Matrix ***************  \\n')\n",
    "        print (confusion_matrix(tst_cat, predicted))\n",
    "        # class_names = list(Counter(tst_cat).keys())\n",
    "        class_names = [str(x) for x in list(Counter(tst_cat).keys())]\n",
    "        print('\\n **a*************  Scores on Test Data  *************** \\n ')\n",
    "        print(classification_report(tst_cat, predicted, target_names=class_names))\n",
    "        print(roc_auc_score(tst_cat, predicted))"
   ],
   "metadata": {
    "collapsed": false,
    "pycharm": {
     "name": "#%%\n"
    }
   }
  },
  {
   "cell_type": "code",
   "execution_count": null,
   "outputs": [
    {
     "name": "stdout",
     "output_type": "stream",
     "text": [
      "\n",
      "\t ### Training Random Forest Classifier ### \n",
      "\n",
      "Fitting 10 folds for each of 36 candidates, totalling 360 fits\n",
      "[CV 1/10] END clf__criterion=entropy, clf__max_depth=10, clf__n_estimators=30;, score=0.653 total time=   2.7s\n",
      "[CV 2/10] END clf__criterion=entropy, clf__max_depth=10, clf__n_estimators=30;, score=0.659 total time=   2.8s\n",
      "[CV 3/10] END clf__criterion=entropy, clf__max_depth=10, clf__n_estimators=30;, score=0.681 total time=   3.2s\n"
     ]
    }
   ],
   "source": [
    "mo = ModelSelector(clf_opt = 'rf')\n",
    "mo.classification()"
   ],
   "metadata": {
    "collapsed": false,
    "pycharm": {
     "name": "#%%\n"
    }
   }
  },
  {
   "cell_type": "code",
   "execution_count": 7,
   "outputs": [
    {
     "data": {
      "text/plain": "<Figure size 432x288 with 1 Axes>",
      "image/png": "[encoded data removed]"
     },
     "metadata": {},
     "output_type": "display_data"
    }
   ],
   "source": [
    "# plot the feature importance using Chi Square Statistic\n",
    "plt.plot(np.sort(np.nan_to_num(np.asarray(feature_scores)).sum(axis = 0))[::-1])\n",
    "plt.title(\"Feature Importance plot using Chi Square Statistics\")\n",
    "plt.xlabel(\"Top n features\")\n",
    "plt.ylabel(\"Feature Scores\")\n",
    "plt.show()"
   ],
   "metadata": {
    "collapsed": false,
    "pycharm": {
     "name": "#%%\n"
    }
   }
  }
 ],
 "metadata": {
  "kernelspec": {
   "display_name": "Python 3",
   "language": "python",
   "name": "python3"
  },
  "language_info": {
   "codemirror_mode": {
    "name": "ipython",
    "version": 2
   },
   "file_extension": ".py",
   "mimetype": "text/x-python",
   "name": "python",
   "nbconvert_exporter": "python",
   "pygments_lexer": "ipython2",
   "version": "2.7.6"
  }
 },
 "nbformat": 4,
 "nbformat_minor": 0
}