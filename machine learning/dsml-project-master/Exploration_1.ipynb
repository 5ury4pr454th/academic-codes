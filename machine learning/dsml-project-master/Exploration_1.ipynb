{
 "cells": [
  {
   "cell_type": "code",
   "execution_count": 1,
   "metadata": {
    "collapsed": true
   },
   "outputs": [],
   "source": [
    "import numpy as np\n",
    "import pandas as pd\n",
    "import matplotlib.pyplot as plt\n",
    "from sklearn.pipeline import Pipeline\n",
    "from sklearn.base import BaseEstimator, TransformerMixin\n",
    "from sklearn.preprocessing import LabelEncoder, OneHotEncoder, MinMaxScaler, PolynomialFeatures\n",
    "from sklearn.decomposition import PCA\n",
    "from sklearn.linear_model import LogisticRegression\n",
    "from sklearn.svm import SVC\n",
    "from sklearn.tree import DecisionTreeClassifier\n",
    "from sklearn.ensemble import RandomForestClassifier, AdaBoostClassifier\n",
    "from sklearn.neighbors import KNeighborsClassifier\n",
    "from sklearn.metrics import accuracy_score, roc_auc_score, f1_score, classification_report\n",
    "from sklearn.model_selection import train_test_split, StratifiedKFold"
   ]
  },
  {
   "cell_type": "code",
   "execution_count": 2,
   "outputs": [],
   "source": [
    "train_df = pd.read_csv(\"raw/train.csv\")\n",
    "test_df = pd.read_csv(\"raw/test.csv\")\n",
    "train_labels = pd.read_csv(\"raw/train_class_labels.csv\").drop(\"Unnamed: 0\", axis = 1)"
   ],
   "metadata": {
    "collapsed": false,
    "pycharm": {
     "name": "#%%\n"
    }
   }
  },
  {
   "cell_type": "code",
   "execution_count": 3,
   "outputs": [],
   "source": [
    "categorical_features = ['workclass', 'educational-num', 'marital-status', 'occupation', 'relationship', 'race', 'gender', 'native-country']"
   ],
   "metadata": {
    "collapsed": false,
    "pycharm": {
     "name": "#%%\n"
    }
   }
  },
  {
   "cell_type": "code",
   "execution_count": 7,
   "outputs": [],
   "source": [
    "\"\"\"Classes for transformations\"\"\"\n",
    "\n",
    "class MyCustomTransformations(BaseEstimator, TransformerMixin):\n",
    "    def __init__(self, column_name = 'native-country'):\n",
    "        self.column_name = column_name\n",
    "\n",
    "    def fit(self, df, y = None):\n",
    "        return self\n",
    "\n",
    "    def transform(self, df, y = None):\n",
    "        new_df = df.copy()\n",
    "        for i in new_df.columns.tolist():\n",
    "            new_df[i].fillna('unk')\n",
    "        new_df[self.column_name] = df[self.column_name].apply(lambda x: 'United-States' if x == 'United-States' else 'Others')\n",
    "        return new_df\n",
    "\n",
    "class FillMissingValues(BaseEstimator, TransformerMixin):\n",
    "    \"\"\"Fills all the missing values by majority voting\"\"\"\n",
    "\n",
    "    def __init__(self, columns = []):\n",
    "        self.columns = columns\n",
    "\n",
    "    def fit(self, df, y = None):\n",
    "        return self\n",
    "\n",
    "    def transform(self, df, y = None):\n",
    "        for i in self.columns:\n",
    "            df[i] = df[i].fillna(df[i].mode())\n",
    "        return df\n",
    "\n",
    "class RemoveOutliers(BaseEstimator, TransformerMixin):\n",
    "    \"\"\"Removes outliers using IQR method\"\"\"\n",
    "\n",
    "    def __init__(self, columns = []):\n",
    "        self.columns = columns\n",
    "\n",
    "    def fit(self, df, y = None):\n",
    "        return self\n",
    "\n",
    "    def transform(self, df, y = None):\n",
    "        for col_no, col in enumerate(self.columns):\n",
    "            q1 = df[col].quantile(0.25)\n",
    "            q3 = df[col].quantile(0.75)\n",
    "            iq_range = q3 - q1\n",
    "            df[col] = df[col].clip(lower = q1 - 1.5*iq_range, upper = q3 + 1.5*iq_range)\n",
    "        return df\n",
    "\n",
    "class AddPolyFeatures(BaseEstimator, TransformerMixin):\n",
    "    \"\"\"Add Polynomial features\"\"\"\n",
    "\n",
    "    def __init__(self, columns = []):\n",
    "        self.columns = columns\n",
    "\n",
    "    def fit(self, df, y = None):\n",
    "        return self\n",
    "\n",
    "    def transform(self, df, y = None):\n",
    "        polynomial_features = PolynomialFeatures()\n",
    "        new_features = polynomial_features.fit_transform(df[self.columns])\n",
    "        rename_list = [\"pf_\" + str(i) for i in range(new_features.shape[1])]\n",
    "        df[rename_list] = pd.DataFrame(np.nan, index=[i for i in range(df.shape[0])], columns = rename_list)\n",
    "        df[rename_list] = new_features\n",
    "        return df\n",
    "\n",
    "class MinMaxScale(BaseEstimator, TransformerMixin):\n",
    "    \"\"\"Normalizing Numerical Variables\"\"\"\n",
    "\n",
    "    def __init__(self,columns=[]):\n",
    "        self.columns = columns\n",
    "\n",
    "    def fit(self, df, y = None):\n",
    "        return self\n",
    "\n",
    "    def transform(self, df, y = None):\n",
    "        scaler = MinMaxScaler()\n",
    "        df[self.columns] = scaler.fit_transform(df[self.columns])\n",
    "        return df\n",
    "\n",
    "class DropColumns(BaseEstimator, TransformerMixin):\n",
    "    \"\"\"For dropping unnecessary columns\"\"\"\n",
    "\n",
    "    def __init__(self,columns=[]):\n",
    "        self.columns = columns\n",
    "\n",
    "    def fit(self, df, y = None):\n",
    "        return self\n",
    "\n",
    "    def transform(self, df, y = None):\n",
    "        return df.drop(self.columns, axis = 1)\n",
    "\n",
    "class OneHotEncode(BaseEstimator, TransformerMixin):\n",
    "    \"\"\"Add Polynomial features\"\"\"\n",
    "\n",
    "    def __init__(self, columns = []):\n",
    "        self.columns = columns\n",
    "\n",
    "    def fit(self, df, y = None):\n",
    "        return self\n",
    "\n",
    "    def transform(self, df, y = None):\n",
    "\n",
    "        oe = OneHotEncoder(sparse=False)\n",
    "        new_df = df.copy()\n",
    "        oe_features = oe.fit_transform(df[self.columns])\n",
    "        oe_features = pd.DataFrame(oe_features, columns=[\"oe_\" + str(i) for i in range(oe_features.shape[1])])\n",
    "        return pd.concat([new_df, oe_features], axis = 1).drop(categorical_features, axis = 1)\n",
    "\n",
    "class LabelEncode(BaseEstimator, TransformerMixin):\n",
    "    \"\"\"For Label Encoding Categorical Variables\"\"\"\n",
    "\n",
    "    def __init__(self, columns = []):\n",
    "        self.columns = columns\n",
    "        self.encoders = []\n",
    "\n",
    "    def fit(self, df, y = None):\n",
    "        for i in self.columns:\n",
    "            self.encoders.append(LabelEncoder())\n",
    "        for i,col in enumerate(self.columns):\n",
    "            self.encoders[i].fit(df[col])\n",
    "        return self\n",
    "\n",
    "    def transform(self, df, y = None):\n",
    "        for col_no, i in enumerate(self.columns):\n",
    "            df[i] = self.encoders[col_no].transform(df[i])\n",
    "        return df\n",
    "\n",
    "class Estimate(BaseEstimator, TransformerMixin):\n",
    "\n",
    "    def __init__(self, estimator = \"lg\"):\n",
    "        self.estimator = estimator\n",
    "\n",
    "    def fit(self, y = None):\n",
    "        return self\n",
    "\n",
    "    def predict(self, df, y = None):\n",
    "        if self.estimator == \"lg\":\n",
    "            lr = LogisticRegression()\n",
    "            lr.fit(df, y)\n",
    "            return lr\n",
    "        elif self.estimator == \"svc\":\n",
    "            svc = SVC()\n",
    "            svc.fit(df, y)\n",
    "            return svc\n",
    "        elif self.estimator == \"dtc\":\n",
    "            dtc = DecisionTreeClassifier()\n",
    "            dtc.fit(df, y)\n",
    "            return dtc\n",
    "        elif self.estimator == \"rf\":\n",
    "            rf = RandomForestClassifier()\n",
    "            rf.fit(df, y)\n",
    "            return rf\n",
    "        elif self.estimator == \"knn\":\n",
    "            knn = KNeighborsClassifier()\n",
    "            knn.fit(df, y)\n",
    "            return knn\n",
    "        elif self.estimator == \"adt\":\n",
    "            adt = AdaBoostClassifier()\n",
    "            adt.fit(df, y)\n",
    "            return adt\n",
    "        else:\n",
    "            return None"
   ],
   "metadata": {
    "collapsed": false,
    "pycharm": {
     "name": "#%%\n"
    }
   }
  },
  {
   "cell_type": "code",
   "execution_count": 8,
   "outputs": [],
   "source": [
    "# default settings\n",
    "# replace missing values by majority voting\n",
    "# use one-hot encoding on all categorical features ---- done\n",
    "# split the data into train and test through the pipeline\n",
    "# min max scale the numerical variables ---- done\n",
    "# this must be enough\n",
    "\n",
    "default_preprocessed_pipeline =Pipeline([\n",
    "                                        (\"dropper\", DropColumns(columns=['Unnamed: 0', 'education'])),\n",
    "                                        (\"majority_voter\", FillMissingValues(columns = ['workclass', 'occupation', 'native-country'])),\n",
    "                                        (\"min_max_scaler\", MinMaxScale(columns=['age', 'fnlwgt', 'hours-per-week', 'capital-gain', 'capital-loss'])),\n",
    "                                        (\"one-hot_encoder\", OneHotEncode(columns=categorical_features)),\n",
    "                                        ])"
   ],
   "metadata": {
    "collapsed": false,
    "pycharm": {
     "name": "#%%\n"
    }
   }
  },
  {
   "cell_type": "code",
   "execution_count": 10,
   "outputs": [],
   "source": [
    "default_preprocessed_pipeline.fit_transform(train_df).to_csv(\"preprocessed/train.csv\", index=False)"
   ],
   "metadata": {
    "collapsed": false,
    "pycharm": {
     "name": "#%%\n"
    }
   }
  },
  {
   "cell_type": "code",
   "execution_count": 8,
   "outputs": [
    {
     "name": "stdout",
     "output_type": "stream",
     "text": [
      "Accuracy =  0.8261028552135119\n",
      "F1 Score =  0.6027797868943396\n",
      "AUC-ROC =  0.7320646347902879\n"
     ]
    }
   ],
   "source": [
    "# current_estimator = RandomForestClassifier\n",
    "#\n",
    "# skf = StratifiedKFold(random_state = 42, shuffle = True)\n",
    "# accuracy_metrics = []\n",
    "# f1_score_metrics = []\n",
    "# auc_roc_metrics = []\n",
    "# y = train_labels['income_>50K'].values\n",
    "#\n",
    "# for train_index, test_index in skf.split(train_df, y):\n",
    "#\n",
    "#     # define pipeline\n",
    "#     pipeLine = Pipeline([\n",
    "#                      (\"custom\", MyCustomTransformations()),\n",
    "#                      (\"dropper\", DropColumns(columns=['Unnamed: 0', 'education', 'capital-gain', 'capital-loss'])),\n",
    "#                      (\"remove_outliers\", RemoveOutliers(columns = [\"age\", \"fnlwgt\", \"hours-per-week\"])),\n",
    "#                      (\"label_encoder\", LabelEncode(columns=['workclass', 'occupation', \"gender\", \"relationship\", \"native-country\", \"marital-status\", \"race\"])),\n",
    "#                      (\"min_max_scaler\", MinMaxScale(columns=[\"age\", \"fnlwgt\", \"hours-per-week\"])),\n",
    "#                      (\"PF\", AddPolyFeatures(columns = [\"age\", \"fnlwgt\", \"hours-per-week\"])),\n",
    "#                      (\"estimator\", current_estimator())])\n",
    "#\n",
    "#     X_train, X_test = train_df.iloc[train_index], train_df.iloc[test_index]\n",
    "#     y_train, y_test = y[train_index], y[test_index]\n",
    "#\n",
    "#     # fit pipeline\n",
    "#     pipeLine.fit(X_train, y_train)\n",
    "#\n",
    "#     # predict and get statistics\n",
    "#     predictions = pipeLine.predict(X_test)\n",
    "#     accuracy_metrics.append(accuracy_score(y_test, predictions))\n",
    "#     f1_score_metrics.append(f1_score(y_test, predictions))\n",
    "#     auc_roc_metrics.append(roc_auc_score(y_test, predictions))\n",
    "#\n",
    "# print(\"Accuracy = \", np.mean(accuracy_metrics))\n",
    "# print(\"F1 Score = \", np.mean(f1_score_metrics))\n",
    "# print(\"AUC-ROC = \", np.mean(auc_roc_metrics))"
   ],
   "metadata": {
    "collapsed": false,
    "pycharm": {
     "name": "#%%\n"
    }
   }
  }
 ],
 "metadata": {
  "kernelspec": {
   "display_name": "Python 3",
   "language": "python",
   "name": "python3"
  },
  "language_info": {
   "codemirror_mode": {
    "name": "ipython",
    "version": 2
   },
   "file_extension": ".py",
   "mimetype": "text/x-python",
   "name": "python",
   "nbconvert_exporter": "python",
   "pygments_lexer": "ipython2",
   "version": "2.7.6"
  }
 },
 "nbformat": 4,
 "nbformat_minor": 0
}