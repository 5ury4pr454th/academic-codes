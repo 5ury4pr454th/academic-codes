{
 "cells": [
  {
   "cell_type": "code",
   "execution_count": 1,
   "metadata": {
    "collapsed": true
   },
   "outputs": [],
   "source": [
    "import numpy as np\n",
    "import pandas as pd\n",
    "import matplotlib.pyplot as plt\n",
    "from sklearn.pipeline import Pipeline\n",
    "from sklearn.base import BaseEstimator, TransformerMixin\n",
    "from sklearn.preprocessing import LabelEncoder, OneHotEncoder, MinMaxScaler, PolynomialFeatures\n",
    "from sklearn.decomposition import PCA\n",
    "from sklearn.linear_model import LogisticRegression\n",
    "from sklearn.svm import SVC\n",
    "from sklearn.tree import DecisionTreeClassifier\n",
    "from sklearn.ensemble import RandomForestClassifier, AdaBoostClassifier\n",
    "from sklearn.neighbors import KNeighborsClassifier\n",
    "from sklearn.metrics import accuracy_score, roc_auc_score, f1_score, classification_report\n",
    "from sklearn.model_selection import train_test_split, StratifiedKFold\n",
    "from imblearn.combine import SMOTETomek"
   ]
  },
  {
   "cell_type": "code",
   "execution_count": 2,
   "outputs": [],
   "source": [
    "train_df = pd.read_csv(\"raw/train.csv\").drop(\"Unnamed: 0\", axis = 1)\n",
    "test_df = pd.read_csv(\"raw/test.csv\")\n",
    "train_labels = pd.read_csv(\"raw/train_class_labels.csv\").drop(\"Unnamed: 0\", axis = 1)"
   ],
   "metadata": {
    "collapsed": false,
    "pycharm": {
     "name": "#%%\n"
    }
   }
  },
  {
   "cell_type": "code",
   "execution_count": 6,
   "outputs": [
    {
     "data": {
      "text/plain": "<BarContainer object of 2 artists>"
     },
     "execution_count": 6,
     "metadata": {},
     "output_type": "execute_result"
    },
    {
     "data": {
      "text/plain": "<Figure size 432x288 with 1 Axes>",
      "image/png": "[encoded data removed]"
     },
     "metadata": {
      "needs_background": "light"
     },
     "output_type": "display_data"
    }
   ],
   "source": [
    "plt.bar(x = [0, 1], height=train_labels['income_>50K'].value_counts())"
   ],
   "metadata": {
    "collapsed": false,
    "pycharm": {
     "name": "#%%\n"
    }
   }
  },
  {
   "cell_type": "code",
   "execution_count": 4,
   "outputs": [],
   "source": [
    "train_df['native-country'] = train_df['native-country'].apply(lambda x: 'Others' if x != 'United-States' else 'United-States')\n",
    "test_df['native-country'] = test_df['native-country'].apply(lambda x: 'Others' if x != 'United-States' else 'United-States')"
   ],
   "metadata": {
    "collapsed": false,
    "pycharm": {
     "name": "#%%\n"
    }
   }
  },
  {
   "cell_type": "code",
   "execution_count": 5,
   "outputs": [],
   "source": [
    "\"\"\"Classes for transformations\"\"\"\n",
    "\n",
    "class RemoveOutliers(BaseEstimator, TransformerMixin):\n",
    "    \"\"\"Removes outliers using IQR method\"\"\"\n",
    "\n",
    "    def __init__(self, columns = []):\n",
    "        self.columns = columns\n",
    "\n",
    "    def fit(self, df, y = None):\n",
    "        return self\n",
    "\n",
    "    def transform(self, df, y = None):\n",
    "        for col_no, col in enumerate(self.columns):\n",
    "            q1 = df[col].quantile(0.25)\n",
    "            q3 = df[col].quantile(0.75)\n",
    "            iq_range = q3 - q1\n",
    "            df[col] = df[col].clip(lower = q1 - 1.5*iq_range, upper = q3 + 1.5*iq_range)\n",
    "        return df\n",
    "\n",
    "class MajorityImputer(BaseEstimator, TransformerMixin):\n",
    "    \"\"\"Removes outliers using IQR method\"\"\"\n",
    "\n",
    "    def __init__(self, columns = []):\n",
    "        self.columns = columns\n",
    "\n",
    "    def fit(self, df, y = None):\n",
    "        return self\n",
    "\n",
    "    def transform(self, df, y = None):\n",
    "        for i in self.columns:\n",
    "            df[i] = df[i].fillna(df[i].mode())\n",
    "        return df\n",
    "\n",
    "class AddPolyFeatures(BaseEstimator, TransformerMixin):\n",
    "    \"\"\"Add Polynomial features\"\"\"\n",
    "\n",
    "    def __init__(self, columns = []):\n",
    "        self.columns = columns\n",
    "        self.rename_dict = dict()\n",
    "\n",
    "    def fit(self, df, y = None):\n",
    "        for i in range(df.shape[1]):\n",
    "            self.rename_dict[i] = \"pf_\" + str(i)\n",
    "        return self\n",
    "\n",
    "    def transform(self, df, y = None):\n",
    "        polynomial_features = PolynomialFeatures()\n",
    "        polynomial_df = polynomial_features.fit_transform(df[self.columns])\n",
    "        polynomial_df = pd.DataFrame(polynomial_df).rename(self.rename_dict)\n",
    "        return pd.merge(left = df, right = polynomial_df, left_index=True, right_index = True)\n",
    "\n",
    "class MinMaxScale(BaseEstimator, TransformerMixin):\n",
    "    \"\"\"Normalizing Numerical Variables\"\"\"\n",
    "\n",
    "    def __init__(self,columns=[]):\n",
    "        self.columns = columns\n",
    "\n",
    "    def fit(self, df, y = None):\n",
    "        return self\n",
    "\n",
    "    def transform(self, df, y = None):\n",
    "        scaler = MinMaxScaler()\n",
    "        df[self.columns] = scaler.fit_transform(df[self.columns])\n",
    "        return df\n",
    "\n",
    "class DropColumns(BaseEstimator, TransformerMixin):\n",
    "    \"\"\"For dropping unnecessary columns\"\"\"\n",
    "\n",
    "    def __init__(self,columns=[]):\n",
    "        self.columns = columns\n",
    "\n",
    "    def fit(self, df, y = None):\n",
    "        return self\n",
    "\n",
    "    def transform(self, df, y = None):\n",
    "        return df.drop(self.columns, axis = 1)\n",
    "\n",
    "class OneHotEncode(BaseEstimator, TransformerMixin):\n",
    "    \"\"\"For One Hot Encoding categorical variables\"\"\"\n",
    "\n",
    "    def __init__(self,columns=[]):\n",
    "        self.columns = columns\n",
    "\n",
    "    def fit(self, df, y = None):\n",
    "        return self\n",
    "\n",
    "    def transform(self,df, y = None):\n",
    "        for i in self.columns:\n",
    "            df[i+'i'] = df[i]\n",
    "        return pd.get_dummies(df, columns = self.columns, drop_first=True)\n",
    "\n",
    "class LabelEncode(BaseEstimator, TransformerMixin):\n",
    "    \"\"\"For Label Encoding Categorical Variables\"\"\"\n",
    "\n",
    "    def __init__(self, columns = []):\n",
    "        self.columns = columns\n",
    "        self.encoders = []\n",
    "\n",
    "    def fit(self, df, y = None):\n",
    "        for i in self.columns:\n",
    "            self.encoders.append(LabelEncoder())\n",
    "        for i,col in enumerate(self.columns):\n",
    "            self.encoders[i].fit(df[col])\n",
    "        return self\n",
    "\n",
    "    def transform(self, df, y = None):\n",
    "        for col_no, i in enumerate(self.columns):\n",
    "            df[i] = self.encoders[col_no].transform(df[i])\n",
    "        return df\n",
    "\n",
    "class AddSmote(BaseEstimator, TransformerMixin):\n",
    "    \"\"\"For Label Encoding Categorical Variables\"\"\"\n",
    "\n",
    "    def __init__(self):\n",
    "        self.smt = None\n",
    "\n",
    "    def fit(self, X, y):\n",
    "        return self\n",
    "\n",
    "    def transform(self, X, y = None):\n",
    "        self.smt = SMOTETomek()\n",
    "        my_df = self.smt.fit_resample(X, y)\n",
    "        return my_df\n",
    "\n",
    "class Estimate(BaseEstimator, TransformerMixin):\n",
    "\n",
    "    def __init__(self, estimator = \"lg\"):\n",
    "        self.estimator = estimator\n",
    "\n",
    "    def fit(self, y = None):\n",
    "        return self\n",
    "\n",
    "    def predict(self, df, y = None):\n",
    "        if self.estimator == \"lg\":\n",
    "            lr = LogisticRegression()\n",
    "            lr.fit(df, y)\n",
    "            return lr\n",
    "        elif self.estimator == \"svc\":\n",
    "            svc = SVC()\n",
    "            svc.fit(df, y)\n",
    "            return svc\n",
    "        elif self.estimator == \"dtc\":\n",
    "            dtc = DecisionTreeClassifier()\n",
    "            dtc.fit(df, y)\n",
    "            return dtc\n",
    "        elif self.estimator == \"rf\":\n",
    "            rf = RandomForestClassifier()\n",
    "            rf.fit(df, y)\n",
    "            return rf\n",
    "        elif self.estimator == \"knn\":\n",
    "            knn = KNeighborsClassifier()\n",
    "            knn.fit(df, y)\n",
    "            return knn\n",
    "        elif self.estimator == \"adt\":\n",
    "            adt = AdaBoostClassifier()\n",
    "            adt.fit(df, y)\n",
    "            return adt\n",
    "        else:\n",
    "            return None"
   ],
   "metadata": {
    "collapsed": false,
    "pycharm": {
     "name": "#%%\n"
    }
   }
  },
  {
   "cell_type": "code",
   "execution_count": 6,
   "outputs": [],
   "source": [
    "X_t, X_v, y_t, y_v = train_test_split(train_df, train_labels['income_>50K'], test_size=0.3)\n",
    "\n",
    "pre_pipeLine = Pipeline([\n",
    "    (\"remove_outliers\", RemoveOutliers(columns = [\"age\", \"fnlwgt\", \"hours-per-week\"])),\n",
    "    (\"imputevalues\", MajorityImputer(columns = [\"occupation\"])),\n",
    "    (\"dropper\", DropColumns(columns=['education'])),\n",
    "                         (\"label_encoder\", LabelEncode(columns=['workclass', 'marital-status', 'occupation', 'relationship', 'race', 'gender', 'native-country'])),\n",
    "                         (\"minmaxscaler\", MinMaxScale(columns=[\"age\", \"fnlwgt\", \"hours-per-week\", \"capital-gain\", \"capital-loss\"]))])\n",
    "\n",
    "# SMOTE\n",
    "X_t = pre_pipeLine.fit_transform(X = X_t)\n",
    "X_v = pre_pipeLine.fit_transform(X = X_v)\n",
    "smt = SMOTETomek()\n",
    "X_t, y_t = smt.fit_resample(X_t, y_t)\n",
    "smt = SMOTETomek()\n",
    "X_v, y_v = smt.fit_resample(X_v, y_v)"
   ],
   "metadata": {
    "collapsed": false,
    "pycharm": {
     "name": "#%%\n"
    }
   }
  },
  {
   "cell_type": "code",
   "execution_count": 7,
   "outputs": [
    {
     "name": "stdout",
     "output_type": "stream",
     "text": [
      "Mean KFold Score (Train) =  0.9599544572794679\n",
      "Mean KFold Score (Test) =  0.8986730281413525\n"
     ]
    }
   ],
   "source": [
    "skf = StratifiedKFold(n_splits = 10)\n",
    "\n",
    "mean_accuracy_scores = []\n",
    "mean_test_accuracy_scores = []\n",
    "\n",
    "for train_index, test_index in skf.split(X_t, y_t):\n",
    "\n",
    "    X_train, X_test = X_t.iloc[train_index], X_t.iloc[test_index]\n",
    "    y_train, y_test = y_t.iloc[train_index], y_t.iloc[test_index]\n",
    "\n",
    "    rfc = RandomForestClassifier(max_depth = 30, min_samples_split=10)\n",
    "    rfc.fit(X_train, y_train)\n",
    "    mean_accuracy_scores.append(roc_auc_score(rfc.predict(X_train), y_train))\n",
    "    mean_test_accuracy_scores.append(roc_auc_score(rfc.predict(X_test), y_test))\n",
    "\n",
    "print(\"Mean KFold Score (Train) = \", np.mean(mean_accuracy_scores))\n",
    "print(\"Mean KFold Score (Test) = \", np.mean(mean_test_accuracy_scores))"
   ],
   "metadata": {
    "collapsed": false,
    "pycharm": {
     "name": "#%%\n"
    }
   }
  },
  {
   "cell_type": "code",
   "execution_count": 8,
   "outputs": [
    {
     "name": "stdout",
     "output_type": "stream",
     "text": [
      "              precision    recall  f1-score   support\n",
      "\n",
      "           0       0.87      0.86      0.87      9723\n",
      "           1       0.86      0.87      0.86      9607\n",
      "\n",
      "    accuracy                           0.87     19330\n",
      "   macro avg       0.87      0.87      0.87     19330\n",
      "weighted avg       0.87      0.87      0.87     19330\n",
      "\n",
      "0.8650933341324011\n"
     ]
    }
   ],
   "source": [
    "random_forest = RandomForestClassifier(max_depth= 30, min_samples_split=10)\n",
    "random_forest.fit(X_t, y_t)\n",
    "print(classification_report(random_forest.predict(X_v), y_v))\n",
    "print(roc_auc_score(random_forest.predict(X_v), y_v))"
   ],
   "metadata": {
    "collapsed": false,
    "pycharm": {
     "name": "#%%\n"
    }
   }
  },
  {
   "cell_type": "code",
   "execution_count": 10,
   "outputs": [
    {
     "data": {
      "text/plain": "<shap.plots._force.AdditiveForceArrayVisualizer at 0x283be3c0580>",
      "text/html": "\n<div id='iPPJZ5GV1V9D8GLX1K7SB'>\n<div style='color: #900; text-align: center;'>\n  <b>Visualization omitted, Javascript library not loaded!</b><br>\n  Have you run `initjs()` in this notebook? If this notebook was from another\n  user you must also trust this notebook (File -> Trust notebook). If you are viewing\n  this notebook on github the Javascript has been stripped for security. If you are using\n  JupyterLab this error is because a JupyterLab extension has not yet been written.\n</div></div>\n <script>\n   if (window.SHAP) SHAP.ReactDom.render(\n    SHAP.React.createElement(SHAP.AdditiveForceArrayVisualizer, {\"outNames\": [\"f(x)\"], \"baseValue\": 0.49983527217831464, \"link\": \"identity\", \"featureNames\": [\"age\", \"workclass\", \"fnlwgt\", \"educational-num\", \"marital-status\", \"occupation\", \"relationship\", \"race\", \"gender\", \"capital-gain\", \"capital-loss\", \"hours-per-week\", \"native-country\"], \"explanations\": [{\"outValue\": 0.17012258085052273, \"simIndex\": 5.0, \"features\": {\"0\": {\"effect\": 0.01942600478064817, \"value\": 0.7868852459016393}, \"1\": {\"effect\": -0.01639496177989067, \"value\": 5.0}, \"2\": {\"effect\": -0.028279954188384915, \"value\": 0.03152923127361947}, \"3\": {\"effect\": -0.055556156868811865, \"value\": 10.0}, \"4\": {\"effect\": -0.09367573201151233, \"value\": 6.0}, \"5\": {\"effect\": 0.014702829660120004, \"value\": 3.0}, \"6\": {\"effect\": -0.14777056775914438, \"value\": 4.0}, \"7\": {\"effect\": 0.0013347425018463708, \"value\": 4.0}, \"8\": {\"effect\": -0.025041017089568105, \"value\": 0.0}, \"9\": {\"effect\": -0.0568388789122296, \"value\": 0.0}, \"10\": {\"effect\": -0.014727169825454875, \"value\": 0.0}, \"11\": {\"effect\": 0.07343562988117146, \"value\": 0.625}, \"12\": {\"effect\": -0.0003274597165811804, \"value\": 1.0}}}, {\"outValue\": 0.7307521886008759, \"simIndex\": 9.0, \"features\": {\"0\": {\"effect\": 0.0001585482153968035, \"value\": 0.2950819672131148}, \"1\": {\"effect\": 0.002848472200599819, \"value\": 4.0}, \"2\": {\"effect\": 0.028977060924639676, \"value\": 0.3392098247561478}, \"3\": {\"effect\": -0.07180965142527218, \"value\": 9.0}, \"4\": {\"effect\": 0.08641433682076334, \"value\": 2.0}, \"5\": {\"effect\": 0.0498876837702459, \"value\": 3.0}, \"6\": {\"effect\": 0.10850209961325326, \"value\": 0.0}, \"7\": {\"effect\": 0.005497249343514224, \"value\": 4.0}, \"8\": {\"effect\": 0.008440192216770327, \"value\": 1.0}, \"9\": {\"effect\": -0.04669182767684289, \"value\": 0.0}, \"10\": {\"effect\": -0.010082311766503102, \"value\": 0.0}, \"11\": {\"effect\": 0.06771950798571848, \"value\": 1.0}, \"12\": {\"effect\": 0.001055556200277582, \"value\": 1.0}}}, {\"outValue\": 0.010227564102561981, \"simIndex\": 1.0, \"features\": {\"0\": {\"effect\": -0.2053084010768063, \"value\": 0.08196721311475408}, \"1\": {\"effect\": 0.0024501258291526958, \"value\": 4.0}, \"2\": {\"effect\": -0.0021955394786909075, \"value\": 0.8966121997056877}, \"3\": {\"effect\": 0.06776197303510527, \"value\": 13.0}, \"4\": {\"effect\": -0.10498505201032857, \"value\": 4.0}, \"5\": {\"effect\": -0.018242642414870912, \"value\": 0.0}, \"6\": {\"effect\": -0.1452281657790357, \"value\": 3.0}, \"7\": {\"effect\": 0.0008503836961966781, \"value\": 4.0}, \"8\": {\"effect\": 0.004734002607441281, \"value\": 1.0}, \"9\": {\"effect\": -0.047490019432250244, \"value\": 0.0}, \"10\": {\"effect\": -0.008788301683280477, \"value\": 0.0}, \"11\": {\"effect\": -0.031324037668893724, \"value\": 0.375}, \"12\": {\"effect\": -0.001842033699491705, \"value\": 0.0}}}, {\"outValue\": 0.9095415146447815, \"simIndex\": 7.0, \"features\": {\"0\": {\"effect\": 0.05194822758714133, \"value\": 0.40983606557377045}, \"1\": {\"effect\": -0.011708935270566111, \"value\": 4.0}, \"2\": {\"effect\": 0.008658750316772587, \"value\": 0.2791769199281241}, \"3\": {\"effect\": 0.09818258397384379, \"value\": 13.0}, \"4\": {\"effect\": 0.09207254483886965, \"value\": 2.0}, \"5\": {\"effect\": 0.030234363890410832, \"value\": 9.0}, \"6\": {\"effect\": 0.11076034469256665, \"value\": 0.0}, \"7\": {\"effect\": 0.0027730846419434505, \"value\": 4.0}, \"8\": {\"effect\": 0.004846832368550685, \"value\": 1.0}, \"9\": {\"effect\": -0.03438173871870765, \"value\": 0.0}, \"10\": {\"effect\": 0.08088181962983441, \"value\": 0.45385674931129477}, \"11\": {\"effect\": -0.025899963435657918, \"value\": 0.375}, \"12\": {\"effect\": 0.0013383279514652382, \"value\": 1.0}}}, {\"outValue\": 0.02688727612256775, \"simIndex\": 4.0, \"features\": {\"0\": {\"effect\": -0.02041484212965441, \"value\": 0.2459016393442623}, \"1\": {\"effect\": 0.001757227358607862, \"value\": 3.0}, \"2\": {\"effect\": -0.043094980643883785, \"value\": 0.08952831693598096}, \"3\": {\"effect\": -0.04632858104575399, \"value\": 10.0}, \"4\": {\"effect\": -0.11793982896753687, \"value\": 4.0}, \"5\": {\"effect\": 0.028996304805845814, \"value\": 9.0}, \"6\": {\"effect\": -0.16213949836752417, \"value\": 3.0}, \"7\": {\"effect\": 0.001007194658129494, \"value\": 4.0}, \"8\": {\"effect\": -0.011257341550532646, \"value\": 0.0}, \"9\": {\"effect\": -0.051651492202523075, \"value\": 0.0}, \"10\": {\"effect\": -0.010275647452119898, \"value\": 0.0}, \"11\": {\"effect\": -0.040257376211024966, \"value\": 0.375}, \"12\": {\"effect\": -0.0013491343077762024, \"value\": 1.0}}}, {\"outValue\": 0.9737142857142869, \"simIndex\": 6.0, \"features\": {\"0\": {\"effect\": 0.008970946151184751, \"value\": 0.27868852459016397}, \"1\": {\"effect\": 0.011708918199547013, \"value\": 3.0}, \"2\": {\"effect\": 0.015470497908666236, \"value\": 0.40746107064343756}, \"3\": {\"effect\": 0.12178142344008751, \"value\": 13.0}, \"4\": {\"effect\": 0.08202335506799377, \"value\": 2.0}, \"5\": {\"effect\": 0.03093234068217332, \"value\": 3.0}, \"6\": {\"effect\": 0.10019490415302236, \"value\": 0.0}, \"7\": {\"effect\": 0.002137168859395665, \"value\": 4.0}, \"8\": {\"effect\": 0.006125417036781251, \"value\": 1.0}, \"9\": {\"effect\": -0.03022987828497002, \"value\": 0.0}, \"10\": {\"effect\": 0.0652694644755947, \"value\": 0.45385674931129477}, \"11\": {\"effect\": 0.05687193868450856, \"value\": 0.625}, \"12\": {\"effect\": 0.002622517161987118, \"value\": 1.0}}}, {\"outValue\": -3.164135620181696e-15, \"simIndex\": 2.0, \"features\": {\"0\": {\"effect\": -0.17467582829770753, \"value\": 0.03278688524590162}, \"1\": {\"effect\": 0.0009573328186394109, \"value\": 3.0}, \"2\": {\"effect\": 0.00233981123372024, \"value\": 0.49264990213189175}, \"3\": {\"effect\": -0.028100919323708944, \"value\": 10.0}, \"4\": {\"effect\": -0.08055783723411129, \"value\": 4.0}, \"5\": {\"effect\": -0.034354405441382976, \"value\": 5.0}, \"6\": {\"effect\": -0.11927557030631816, \"value\": 3.0}, \"7\": {\"effect\": 0.0012934313239283469, \"value\": 4.0}, \"8\": {\"effect\": 0.004369506694728305, \"value\": 1.0}, \"9\": {\"effect\": -0.03920094168125568, \"value\": 0.0}, \"10\": {\"effect\": -0.00762193613950112, \"value\": 0.0}, \"11\": {\"effect\": -0.024982522434727907, \"value\": 0.375}, \"12\": {\"effect\": -2.5393390620383593e-05, \"value\": 1.0}}}, {\"outValue\": 0.8883225246350254, \"simIndex\": 8.0, \"features\": {\"0\": {\"effect\": 0.10377314563539052, \"value\": 0.49180327868852464}, \"1\": {\"effect\": 0.018905323766820564, \"value\": 3.0}, \"2\": {\"effect\": 0.032284591814103265, \"value\": 0.4331002810660057}, \"3\": {\"effect\": -0.008907772878674666, \"value\": 10.0}, \"4\": {\"effect\": 0.0956878064627609, \"value\": 2.0}, \"5\": {\"effect\": 0.02624020366052756, \"value\": 11.0}, \"6\": {\"effect\": 0.11629733039817577, \"value\": 0.0}, \"7\": {\"effect\": 0.002225028159151477, \"value\": 4.0}, \"8\": {\"effect\": 0.009688922655625399, \"value\": 1.0}, \"9\": {\"effect\": -0.04078743118705654, \"value\": 0.0}, \"10\": {\"effect\": -0.008133503157826455, \"value\": 0.0}, \"11\": {\"effect\": 0.04261223676231152, \"value\": 0.875}, \"12\": {\"effect\": -0.0013986296345985473, \"value\": 1.0}}}, {\"outValue\": 2.7200464103316335e-15, \"simIndex\": 3.0, \"features\": {\"0\": {\"effect\": -0.1459804682798277, \"value\": 0.08196721311475408}, \"1\": {\"effect\": 0.0002830260569432956, \"value\": 3.0}, \"2\": {\"effect\": 0.0029704541902353648, \"value\": 0.5418315762381708}, \"3\": {\"effect\": -0.021300078291646984, \"value\": 10.0}, \"4\": {\"effect\": -0.08142544014807107, \"value\": 4.0}, \"5\": {\"effect\": -0.008663649331123962, \"value\": 0.0}, \"6\": {\"effect\": -0.09549514604769355, \"value\": 3.0}, \"7\": {\"effect\": -0.013207909600835704, \"value\": 2.0}, \"8\": {\"effect\": -0.0062513297152515844, \"value\": 0.0}, \"9\": {\"effect\": -0.03870762388225438, \"value\": 0.0}, \"10\": {\"effect\": -0.006779694678159715, \"value\": 0.0}, \"11\": {\"effect\": -0.08483013339514944, \"value\": 0.0}, \"12\": {\"effect\": -0.000447279055476557, \"value\": 1.0}}}, {\"outValue\": 0.887507187257186, \"simIndex\": 10.0, \"features\": {\"0\": {\"effect\": 0.09743480660047962, \"value\": 0.5081967213114753}, \"1\": {\"effect\": 0.001288407453421013, \"value\": 3.0}, \"2\": {\"effect\": 0.0085406320178902, \"value\": 0.4259391232364154}, \"3\": {\"effect\": -0.06338584118183138, \"value\": 9.0}, \"4\": {\"effect\": 0.07420323548175702, \"value\": 2.0}, \"5\": {\"effect\": -0.058742036894302234, \"value\": 6.0}, \"6\": {\"effect\": 0.08586948562304515, \"value\": 0.0}, \"7\": {\"effect\": 0.003967967183197968, \"value\": 4.0}, \"8\": {\"effect\": 0.006002253957707282, \"value\": 1.0}, \"9\": {\"effect\": 0.15300438359263857, \"value\": 0.03103031030310303}, \"10\": {\"effect\": -0.006960395547110373, \"value\": 0.0}, \"11\": {\"effect\": 0.08482080606863883, \"value\": 0.6750000000000003}, \"12\": {\"effect\": 0.0016282107233396982, \"value\": 1.0}}}], \"plot_cmap\": \"RdBu\", \"ordering_keys\": null, \"ordering_keys_time_format\": null}),\n    document.getElementById('iPPJZ5GV1V9D8GLX1K7SB')\n  );\n</script>"
     },
     "execution_count": 10,
     "metadata": {},
     "output_type": "execute_result"
    }
   ],
   "source": [
    "# tree explainer model\n",
    "import shap\n",
    "explainer = shap.TreeExplainer(random_forest)\n",
    "chosen_instance = X_v.iloc[565:575]\n",
    "shap_values = explainer.shap_values(chosen_instance)\n",
    "shap.force_plot(explainer.expected_value[1], shap_values[1], chosen_instance)"
   ],
   "metadata": {
    "collapsed": false,
    "pycharm": {
     "name": "#%%\n"
    }
   }
  },
  {
   "cell_type": "code",
   "execution_count": 13,
   "outputs": [
    {
     "data": {
      "text/plain": "<Figure size 576x482.4 with 1 Axes>",
      "image/png": "[encoded data removed]"
     },
     "metadata": {
      "needs_background": "light"
     },
     "output_type": "display_data"
    }
   ],
   "source": [
    "shap.summary_plot(shap_values, X_t.columns.to_list())"
   ],
   "metadata": {
    "collapsed": false,
    "pycharm": {
     "name": "#%%\n"
    }
   }
  },
  {
   "cell_type": "code",
   "execution_count": null,
   "outputs": [],
   "source": [],
   "metadata": {
    "collapsed": false,
    "pycharm": {
     "name": "#%%\n"
    }
   }
  }
 ],
 "metadata": {
  "kernelspec": {
   "display_name": "Python 3",
   "language": "python",
   "name": "python3"
  },
  "language_info": {
   "codemirror_mode": {
    "name": "ipython",
    "version": 2
   },
   "file_extension": ".py",
   "mimetype": "text/x-python",
   "name": "python",
   "nbconvert_exporter": "python",
   "pygments_lexer": "ipython2",
   "version": "2.7.6"
  }
 },
 "nbformat": 4,
 "nbformat_minor": 0
}