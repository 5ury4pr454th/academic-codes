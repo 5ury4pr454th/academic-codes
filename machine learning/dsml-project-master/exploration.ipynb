{
 "cells": [
  {
   "cell_type": "code",
   "execution_count": 137,
   "metadata": {
    "collapsed": true
   },
   "outputs": [],
   "source": [
    "import numpy as np\n",
    "import pandas as pd\n",
    "import matplotlib.pyplot as plt\n",
    "from sklearn.pipeline import Pipeline\n",
    "from sklearn.base import BaseEstimator, TransformerMixin\n",
    "from sklearn.preprocessing import LabelEncoder, OneHotEncoder, MinMaxScaler, PolynomialFeatures\n",
    "from sklearn.decomposition import PCA\n",
    "from sklearn.linear_model import LogisticRegression\n",
    "from sklearn.svm import SVC\n",
    "from sklearn.tree import DecisionTreeClassifier\n",
    "from sklearn.ensemble import RandomForestClassifier, AdaBoostClassifier\n",
    "from sklearn.neighbors import KNeighborsClassifier\n",
    "from sklearn.metrics import accuracy_score, roc_auc_score, f1_score, classification_report"
   ]
  },
  {
   "cell_type": "code",
   "execution_count": 124,
   "outputs": [],
   "source": [
    "train_df = pd.read_csv(\"raw/train.csv\")\n",
    "test_df = pd.read_csv(\"raw/test.csv\")\n",
    "\n",
    "train_labels = pd.read_csv(\"raw/train_class_labels.csv\").drop(\"Unnamed: 0\", axis = 1)"
   ],
   "metadata": {
    "collapsed": false,
    "pycharm": {
     "name": "#%%\n"
    }
   }
  },
  {
   "cell_type": "code",
   "execution_count": 123,
   "outputs": [
    {
     "data": {
      "text/plain": "       Unnamed: 0  income_>50K\n0               0            1\n1               1            0\n2               2            1\n3               3            0\n4               4            0\n...           ...          ...\n43952       43952            1\n43953       43953            0\n43954       43954            0\n43955       43955            0\n43956       43956            0\n\n[43957 rows x 2 columns]",
      "text/html": "<div>\n<style scoped>\n    .dataframe tbody tr th:only-of-type {\n        vertical-align: middle;\n    }\n\n    .dataframe tbody tr th {\n        vertical-align: top;\n    }\n\n    .dataframe thead th {\n        text-align: right;\n    }\n</style>\n<table border=\"1\" class=\"dataframe\">\n  <thead>\n    <tr style=\"text-align: right;\">\n      <th></th>\n      <th>Unnamed: 0</th>\n      <th>income_&gt;50K</th>\n    </tr>\n  </thead>\n  <tbody>\n    <tr>\n      <th>0</th>\n      <td>0</td>\n      <td>1</td>\n    </tr>\n    <tr>\n      <th>1</th>\n      <td>1</td>\n      <td>0</td>\n    </tr>\n    <tr>\n      <th>2</th>\n      <td>2</td>\n      <td>1</td>\n    </tr>\n    <tr>\n      <th>3</th>\n      <td>3</td>\n      <td>0</td>\n    </tr>\n    <tr>\n      <th>4</th>\n      <td>4</td>\n      <td>0</td>\n    </tr>\n    <tr>\n      <th>...</th>\n      <td>...</td>\n      <td>...</td>\n    </tr>\n    <tr>\n      <th>43952</th>\n      <td>43952</td>\n      <td>1</td>\n    </tr>\n    <tr>\n      <th>43953</th>\n      <td>43953</td>\n      <td>0</td>\n    </tr>\n    <tr>\n      <th>43954</th>\n      <td>43954</td>\n      <td>0</td>\n    </tr>\n    <tr>\n      <th>43955</th>\n      <td>43955</td>\n      <td>0</td>\n    </tr>\n    <tr>\n      <th>43956</th>\n      <td>43956</td>\n      <td>0</td>\n    </tr>\n  </tbody>\n</table>\n<p>43957 rows × 2 columns</p>\n</div>"
     },
     "execution_count": 123,
     "metadata": {},
     "output_type": "execute_result"
    }
   ],
   "source": [
    "# dropping columns\n",
    "train_labels"
   ],
   "metadata": {
    "collapsed": false,
    "pycharm": {
     "name": "#%%\n"
    }
   }
  },
  {
   "cell_type": "code",
   "execution_count": 139,
   "outputs": [],
   "source": [
    "\"\"\"Classes for transformations\"\"\"\n",
    "\n",
    "class RemoveOutliers(BaseEstimator, TransformerMixin):\n",
    "    \"\"\"Removes outliers using IQR method\"\"\"\n",
    "\n",
    "    def __init__(self, columns = []):\n",
    "        self.columns = columns\n",
    "\n",
    "    def fit(self, df, y = None):\n",
    "        return self\n",
    "\n",
    "    def transform(self, df, y = None):\n",
    "        for col_no, col in enumerate(self.columns):\n",
    "            q1 = df[col].quantile(0.25)\n",
    "            q3 = df[col].quantile(0.75)\n",
    "            iq_range = q3 - q1\n",
    "            df[col] = df[col].clip(lower = q1 - 1.5*iq_range, upper = q3 + 1.5*iq_range)\n",
    "        return df\n",
    "\n",
    "class AddPolyFeatures(BaseEstimator, TransformerMixin):\n",
    "    \"\"\"Add Polynomial features\"\"\"\n",
    "\n",
    "    def __init__(self, columns = []):\n",
    "        self.columns = columns\n",
    "        self.rename_dict = dict()\n",
    "\n",
    "    def fit(self, df, y = None):\n",
    "        for i in range(df.shape[1]):\n",
    "            self.rename_dict[i] = \"pf_\" + str(i)\n",
    "        return self\n",
    "\n",
    "    def transform(self, df, y = None):\n",
    "        polynomial_features = PolynomialFeatures()\n",
    "        polynomial_df = polynomial_features.fit_transform(df[self.columns])\n",
    "        polynomial_df = polynomial_df.rename(self.rename_dict)\n",
    "        return pd.merge(left = df, right = polynomial_df, left_index=True, right_index = True)\n",
    "\n",
    "class MinMaxScale(BaseEstimator, TransformerMixin):\n",
    "    \"\"\"Normalizing Numerical Variables\"\"\"\n",
    "\n",
    "    def __init__(self,columns=[]):\n",
    "        self.columns = columns\n",
    "\n",
    "    def fit(self, df, y = None):\n",
    "        return self\n",
    "\n",
    "    def transform(self, df, y = None):\n",
    "        scaler = MinMaxScaler()\n",
    "        df[self.columns] = scaler.fit_transform(df[self.columns])\n",
    "        return df\n",
    "\n",
    "class DropColumns(BaseEstimator, TransformerMixin):\n",
    "    \"\"\"For dropping unnecessary columns\"\"\"\n",
    "\n",
    "    def __init__(self,columns=[]):\n",
    "        self.columns = columns\n",
    "\n",
    "    def fit(self, df, y = None):\n",
    "        return self\n",
    "\n",
    "    def transform(self, df, y = None):\n",
    "        return df.drop(self.columns, axis = 1)\n",
    "\n",
    "class OneHotEncode(BaseEstimator, TransformerMixin):\n",
    "    \"\"\"For One Hot Encoding categorical variables\"\"\"\n",
    "\n",
    "    def __init__(self,columns=[]):\n",
    "        self.columns = columns\n",
    "\n",
    "    def fit(self, df, y = None):\n",
    "        return self\n",
    "\n",
    "    def transform(self,df, y = None):\n",
    "        for i in self.columns:\n",
    "            df[i+'i'] = df[i]\n",
    "        return pd.get_dummies(df, columns = self.columns, drop_first=True)\n",
    "\n",
    "class LabelEncode(BaseEstimator, TransformerMixin):\n",
    "    \"\"\"For Label Encoding Categorical Variables\"\"\"\n",
    "\n",
    "    def __init__(self, columns = []):\n",
    "        self.columns = columns\n",
    "        self.encoders = []\n",
    "\n",
    "    def fit(self, df, y = None):\n",
    "        for i in self.columns:\n",
    "            self.encoders.append(LabelEncoder())\n",
    "        for i,col in enumerate(self.columns):\n",
    "            self.encoders[i].fit(df[col])\n",
    "        return self\n",
    "\n",
    "    def transform(self, df, y = None):\n",
    "        for col_no, i in enumerate(self.columns):\n",
    "            df[i] = self.encoders[col_no].transform(df[i])\n",
    "        return df\n",
    "\n",
    "class Estimate(BaseEstimator, TransformerMixin):\n",
    "\n",
    "    def __init__(self, estimator = \"lg\"):\n",
    "        self.estimator = estimator\n",
    "\n",
    "    def fit(self, y = None):\n",
    "        return self\n",
    "\n",
    "    def predict(self, df, y = None):\n",
    "        if self.estimator == \"lg\":\n",
    "            lr = LogisticRegression()\n",
    "            lr.fit(df, y)\n",
    "            return lr\n",
    "        elif self.estimator == \"svc\":\n",
    "            svc = SVC()\n",
    "            svc.fit(df, y)\n",
    "            return svc\n",
    "        elif self.estimator == \"dtc\":\n",
    "            dtc = DecisionTreeClassifier()\n",
    "            dtc.fit(df, y)\n",
    "            return dtc\n",
    "        elif self.estimator == \"rf\":\n",
    "            rf = RandomForestClassifier()\n",
    "            rf.fit(df, y)\n",
    "            return rf\n",
    "        elif self.estimator == \"knn\":\n",
    "            knn = KNeighborsClassifier()\n",
    "            knn.fit(df, y)\n",
    "            return knn\n",
    "        elif self.estimator == \"adt\":\n",
    "            adt = AdaBoostClassifier()\n",
    "            adt.fit(df, y)\n",
    "            return adt\n",
    "        else:\n",
    "            return None"
   ],
   "metadata": {
    "collapsed": false,
    "pycharm": {
     "name": "#%%\n"
    }
   }
  },
  {
   "cell_type": "code",
   "execution_count": 140,
   "outputs": [],
   "source": [
    "pipeLine = Pipeline([(\"dropper\", DropColumns(columns=['Unnamed: 0', 'education', 'capital-gain', 'capital-loss'])),\n",
    "                     (\"label_encoder\", LabelEncode(columns=['workclass', 'marital-status', 'occupation', 'relationship', 'race', 'gender', 'native-country'])),\n",
    "                     (\"minmaxscaler\", MinMaxScale(columns=[\"age\", \"fnlwgt\", \"hours-per-week\"])),\n",
    "                     (\"estimator\", LogisticRegression())])"
   ],
   "metadata": {
    "collapsed": false,
    "pycharm": {
     "name": "#%%\n"
    }
   }
  },
  {
   "cell_type": "code",
   "execution_count": 141,
   "outputs": [
    {
     "name": "stderr",
     "output_type": "stream",
     "text": [
      "C:\\ProgramData\\Anaconda3\\envs\\dsml\\lib\\site-packages\\sklearn\\utils\\validation.py:993: DataConversionWarning: A column-vector y was passed when a 1d array was expected. Please change the shape of y to (n_samples, ), for example using ravel().\n",
      "  y = column_or_1d(y, warn=True)\n",
      "C:\\ProgramData\\Anaconda3\\envs\\dsml\\lib\\site-packages\\sklearn\\linear_model\\_logistic.py:814: ConvergenceWarning: lbfgs failed to converge (status=1):\n",
      "STOP: TOTAL NO. of ITERATIONS REACHED LIMIT.\n",
      "\n",
      "Increase the number of iterations (max_iter) or scale the data as shown in:\n",
      "    https://scikit-learn.org/stable/modules/preprocessing.html\n",
      "Please also refer to the documentation for alternative solver options:\n",
      "    https://scikit-learn.org/stable/modules/linear_model.html#logistic-regression\n",
      "  n_iter_i = _check_optimize_result(\n"
     ]
    },
    {
     "data": {
      "text/plain": "Pipeline(steps=[('dropper',\n                 DropColumns(columns=['Unnamed: 0', 'education', 'capital-gain',\n                                      'capital-loss'])),\n                ('label_encoder',\n                 LabelEncode(columns=['workclass', 'marital-status',\n                                      'occupation', 'relationship', 'race',\n                                      'gender', 'native-country'])),\n                ('minmaxscaler',\n                 MinMaxScale(columns=['age', 'fnlwgt', 'hours-per-week'])),\n                ('estimator', LogisticRegression())])"
     },
     "execution_count": 141,
     "metadata": {},
     "output_type": "execute_result"
    }
   ],
   "source": [
    "pipeLine.fit(X = train_df, y = train_labels)"
   ],
   "metadata": {
    "collapsed": false,
    "pycharm": {
     "name": "#%%\n"
    }
   }
  },
  {
   "cell_type": "code",
   "execution_count": 144,
   "outputs": [
    {
     "name": "stdout",
     "output_type": "stream",
     "text": [
      "0.8075619355279022\n"
     ]
    }
   ],
   "source": [
    "print(accuracy_score(pipeLine.predict(train_df), train_labels))"
   ],
   "metadata": {
    "collapsed": false,
    "pycharm": {
     "name": "#%%\n"
    }
   }
  },
  {
   "cell_type": "code",
   "execution_count": 109,
   "outputs": [
    {
     "data": {
      "text/plain": "            age  workclass    fnlwgt  educational-num  marital-status  \\\n0      0.684932          3  0.238967               16               0   \n1      0.000000          3  0.156482                8               4   \n2      0.191781          3  0.108814               13               2   \n3      0.561644          6  0.065479                4               2   \n4      0.109589          6  0.091919               10               4   \n...         ...        ...       ...              ...             ...   \n43952  0.479452          3  0.037572               13               2   \n43953  0.027397          3  0.069788                9               4   \n43954  0.178082          3  0.124893               10               0   \n43955  0.397260          3  0.057140               13               4   \n43956  0.178082          3  0.245333                9               4   \n\n       occupation  relationship  race  gender  hours-per-week  native-country  \n0               3             1     4       1        0.602041              38  \n1               7             3     4       1        0.142857              38  \n2               3             0     4       1        0.397959              38  \n3              13             0     4       1        0.397959              38  \n4               7             1     2       1        0.397959              38  \n...           ...           ...   ...     ...             ...             ...  \n43952           3             0     4       1        0.500000              38  \n43953           7             3     4       0        0.397959              38  \n43954          11             1     4       1        0.581633              38  \n43955          11             1     4       0        0.346939              38  \n43956           5             2     4       1        0.397959              38  \n\n[43957 rows x 11 columns]",
      "text/html": "<div>\n<style scoped>\n    .dataframe tbody tr th:only-of-type {\n        vertical-align: middle;\n    }\n\n    .dataframe tbody tr th {\n        vertical-align: top;\n    }\n\n    .dataframe thead th {\n        text-align: right;\n    }\n</style>\n<table border=\"1\" class=\"dataframe\">\n  <thead>\n    <tr style=\"text-align: right;\">\n      <th></th>\n      <th>age</th>\n      <th>workclass</th>\n      <th>fnlwgt</th>\n      <th>educational-num</th>\n      <th>marital-status</th>\n      <th>occupation</th>\n      <th>relationship</th>\n      <th>race</th>\n      <th>gender</th>\n      <th>hours-per-week</th>\n      <th>native-country</th>\n    </tr>\n  </thead>\n  <tbody>\n    <tr>\n      <th>0</th>\n      <td>0.684932</td>\n      <td>3</td>\n      <td>0.238967</td>\n      <td>16</td>\n      <td>0</td>\n      <td>3</td>\n      <td>1</td>\n      <td>4</td>\n      <td>1</td>\n      <td>0.602041</td>\n      <td>38</td>\n    </tr>\n    <tr>\n      <th>1</th>\n      <td>0.000000</td>\n      <td>3</td>\n      <td>0.156482</td>\n      <td>8</td>\n      <td>4</td>\n      <td>7</td>\n      <td>3</td>\n      <td>4</td>\n      <td>1</td>\n      <td>0.142857</td>\n      <td>38</td>\n    </tr>\n    <tr>\n      <th>2</th>\n      <td>0.191781</td>\n      <td>3</td>\n      <td>0.108814</td>\n      <td>13</td>\n      <td>2</td>\n      <td>3</td>\n      <td>0</td>\n      <td>4</td>\n      <td>1</td>\n      <td>0.397959</td>\n      <td>38</td>\n    </tr>\n    <tr>\n      <th>3</th>\n      <td>0.561644</td>\n      <td>6</td>\n      <td>0.065479</td>\n      <td>4</td>\n      <td>2</td>\n      <td>13</td>\n      <td>0</td>\n      <td>4</td>\n      <td>1</td>\n      <td>0.397959</td>\n      <td>38</td>\n    </tr>\n    <tr>\n      <th>4</th>\n      <td>0.109589</td>\n      <td>6</td>\n      <td>0.091919</td>\n      <td>10</td>\n      <td>4</td>\n      <td>7</td>\n      <td>1</td>\n      <td>2</td>\n      <td>1</td>\n      <td>0.397959</td>\n      <td>38</td>\n    </tr>\n    <tr>\n      <th>...</th>\n      <td>...</td>\n      <td>...</td>\n      <td>...</td>\n      <td>...</td>\n      <td>...</td>\n      <td>...</td>\n      <td>...</td>\n      <td>...</td>\n      <td>...</td>\n      <td>...</td>\n      <td>...</td>\n    </tr>\n    <tr>\n      <th>43952</th>\n      <td>0.479452</td>\n      <td>3</td>\n      <td>0.037572</td>\n      <td>13</td>\n      <td>2</td>\n      <td>3</td>\n      <td>0</td>\n      <td>4</td>\n      <td>1</td>\n      <td>0.500000</td>\n      <td>38</td>\n    </tr>\n    <tr>\n      <th>43953</th>\n      <td>0.027397</td>\n      <td>3</td>\n      <td>0.069788</td>\n      <td>9</td>\n      <td>4</td>\n      <td>7</td>\n      <td>3</td>\n      <td>4</td>\n      <td>0</td>\n      <td>0.397959</td>\n      <td>38</td>\n    </tr>\n    <tr>\n      <th>43954</th>\n      <td>0.178082</td>\n      <td>3</td>\n      <td>0.124893</td>\n      <td>10</td>\n      <td>0</td>\n      <td>11</td>\n      <td>1</td>\n      <td>4</td>\n      <td>1</td>\n      <td>0.581633</td>\n      <td>38</td>\n    </tr>\n    <tr>\n      <th>43955</th>\n      <td>0.397260</td>\n      <td>3</td>\n      <td>0.057140</td>\n      <td>13</td>\n      <td>4</td>\n      <td>11</td>\n      <td>1</td>\n      <td>4</td>\n      <td>0</td>\n      <td>0.346939</td>\n      <td>38</td>\n    </tr>\n    <tr>\n      <th>43956</th>\n      <td>0.178082</td>\n      <td>3</td>\n      <td>0.245333</td>\n      <td>9</td>\n      <td>4</td>\n      <td>5</td>\n      <td>2</td>\n      <td>4</td>\n      <td>1</td>\n      <td>0.397959</td>\n      <td>38</td>\n    </tr>\n  </tbody>\n</table>\n<p>43957 rows × 11 columns</p>\n</div>"
     },
     "execution_count": 109,
     "metadata": {},
     "output_type": "execute_result"
    }
   ],
   "source": [
    "pipeLine.transform(train_df)"
   ],
   "metadata": {
    "collapsed": false,
    "pycharm": {
     "name": "#%%\n"
    }
   }
  },
  {
   "cell_type": "code",
   "execution_count": null,
   "outputs": [],
   "source": [],
   "metadata": {
    "collapsed": false,
    "pycharm": {
     "name": "#%%\n"
    }
   }
  }
 ],
 "metadata": {
  "kernelspec": {
   "display_name": "Python 3",
   "language": "python",
   "name": "python3"
  },
  "language_info": {
   "codemirror_mode": {
    "name": "ipython",
    "version": 2
   },
   "file_extension": ".py",
   "mimetype": "text/x-python",
   "name": "python",
   "nbconvert_exporter": "python",
   "pygments_lexer": "ipython2",
   "version": "2.7.6"
  }
 },
 "nbformat": 4,
 "nbformat_minor": 0
}